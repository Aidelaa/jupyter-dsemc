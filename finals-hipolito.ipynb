{
  "metadata": {
    "kernelspec": {
      "name": "python",
      "display_name": "Python (Pyodide)",
      "language": "python"
    },
    "language_info": {
      "codemirror_mode": {
        "name": "python",
        "version": 3
      },
      "file_extension": ".py",
      "mimetype": "text/x-python",
      "name": "python",
      "nbconvert_exporter": "python",
      "pygments_lexer": "ipython3",
      "version": "3.8"
    }
  },
  "nbformat_minor": 4,
  "nbformat": 4,
  "cells": [
    {
      "cell_type": "code",
      "source": "#PART 1\n\nimport pandas as pd\n\ndf = pd.read_csv('data/medical insurance dataset.csv')\n\ndescription = df[['age', 'bmi', 'children', 'charges']].describe()\nprint(\"Description of numerical columns:\")\nprint(description)\n\nsex_counts = df['sex'].value_counts()\n\nsmoker_counts = df['smoker'].value_counts()\n\nprint(\"Count of Sex:\")\nprint(sex_counts)\n\nprint(\"\\nCount of Smoker Status:\")\nprint(smoker_counts)\n\npivot_age_sex = df.pivot_table(index='sex', columns='age', aggfunc='size', fill_value=0)\nprint(\"Pivot Table: Age to Sex\")\nprint(pivot_age_sex)\n\npivot_sex_smoker = df.pivot_table(index='sex', columns='smoker', aggfunc='size', fill_value=0)\nprint(\"\\nPivot Table: Sex to Smoker Status\")\nprint(pivot_sex_smoker)\n\npivot_smoker_charges = df.pivot_table(index='smoker', values='charges', aggfunc='mean')\nprint(\"\\nPivot Table: Smoker Status to Charges\")\nprint(pivot_smoker_charges)\n",
      "metadata": {
        "trusted": true
      },
      "outputs": [
        {
          "name": "stdout",
          "text": "Description of numerical columns:\n               age          bmi     children       charges\ncount  1338.000000  1338.000000  1338.000000   1338.000000\nmean     39.207025    30.663397     1.094918  13270.422346\nstd      14.049960     6.098187     1.205493  12110.011277\nmin      18.000000    15.960000     0.000000   1121.874000\n25%      27.000000    26.296250     0.000000   4740.287000\n50%      39.000000    30.400000     1.000000   9382.033000\n75%      51.000000    34.693750     2.000000  16639.915000\nmax      64.000000    53.130000     5.000000  63770.430000\nCount of Sex:\nmale      676\nfemale    662\nName: sex, dtype: int64\n\nCount of Smoker Status:\nno     1064\nyes     274\nName: smoker, dtype: int64\nPivot Table: Age to Sex\nage     18  19  20  21  22  23  24  25  26  27  ...  55  56  57  58  59  60  \\\nsex                                             ...                           \nfemale  33  33  14  13  13  14  14  13  13  14  ...  13  13  13  13  13  11   \nmale    36  35  15  15  15  14  14  15  15  14  ...  13  13  13  12  12  12   \n\nage     61  62  63  64  \nsex                     \nfemale  12  12  12  11  \nmale    11  11  11  11  \n\n[2 rows x 47 columns]\n\nPivot Table: Sex to Smoker Status\nsmoker   no  yes\nsex             \nfemale  547  115\nmale    517  159\n\nPivot Table: Smoker Status to Charges\n             charges\nsmoker              \nno       8434.268364\nyes     32050.231971\n",
          "output_type": "stream"
        }
      ],
      "execution_count": 21
    },
    {
      "cell_type": "code",
      "source": "import pandas as pd\n\nmed_data = pd.read_csv('data/medical insurance dataset.csv')\n\nmale_smokers = med_data[(med_data['sex'] == 'male') & (med_data['smoker'] == 'yes')]\nmale_nonsmokers = med_data[(med_data['sex'] == 'male') & (med_data['smoker'] == 'no')]\nfemale_smokers = med_data[(med_data['sex'] == 'female') & (med_data['smoker'] == 'yes')]\nfemale_nonsmokers = med_data[(med_data['sex'] == 'female') & (med_data['smoker'] == 'no')]\n\nmale_smokers_corr = male_smokers[['age', 'bmi', 'children', 'charges']].corr()\nmale_nonsmokers_corr = male_nonsmokers[['age', 'bmi', 'children', 'charges']].corr()\nfemale_smokers_corr = female_smokers[['age', 'bmi', 'children', 'charges']].corr()\nfemale_nonsmokers_corr = female_nonsmokers[['age', 'bmi', 'children', 'charges']].corr()\n\nprint(\"Correlation for Male Smokers:\")\nprint(male_smokers_corr)\nprint(\"\\nCorrelation for Male Non-Smokers:\")\nprint(male_nonsmokers_corr)\nprint(\"\\nCorrelation for Female Smokers:\")\nprint(female_smokers_corr)\nprint(\"\\nCorrelation for Female Non-Smokers:\")\nprint(female_nonsmokers_corr)",
      "metadata": {
        "trusted": true
      },
      "outputs": [
        {
          "name": "stdout",
          "text": "Correlation for Male Smokers:\n               age       bmi  children   charges\nage       1.000000  0.009196  0.089524  0.379154\nbmi       0.009196  1.000000  0.047140  0.769355\nchildren  0.089524  0.047140  1.000000  0.061737\ncharges   0.379154  0.769355  0.061737  1.000000\n\nCorrelation for Male Non-Smokers:\n               age       bmi  children   charges\nage       1.000000  0.157108 -0.013316  0.634549\nbmi       0.157108  1.000000 -0.012269  0.095904\nchildren -0.013316 -0.012269  1.000000  0.100066\ncharges   0.634549  0.095904  0.100066  1.000000\n\nCorrelation for Female Smokers:\n               age       bmi  children   charges\nage       1.000000  0.123585  0.071392  0.360157\nbmi       0.123585  1.000000 -0.115732  0.845910\nchildren  0.071392 -0.115732  1.000000 -0.016352\ncharges   0.360157  0.845910 -0.016352  1.000000\n\nCorrelation for Female Non-Smokers:\n               age       bmi  children   charges\nage       1.000000  0.089160  0.079141  0.621786\nbmi       0.089160  1.000000  0.051120  0.075093\nchildren  0.079141  0.051120  1.000000  0.176355\ncharges   0.621786  0.075093  0.176355  1.000000\n",
          "output_type": "stream"
        }
      ],
      "execution_count": 33
    },
    {
      "cell_type": "code",
      "source": "import pandas as pd\n\ndata = pd.read_csv('data/medical insurance dataset.csv')\n\nimport getpass\n\ndef calculate_insurance_charge(sex, smoker, age, bmi, children):\n    base_charge = 0\n    if sex.lower() == 'male':\n        base_charge += 50\n    else:\n        base_charge += 30\n\n    if smoker.lower() == 'smoker':\n        base_charge += 100\n\n    if age >= 18 and age <= 30:\n        base_charge += 100\n    elif age >= 31 and age <= 45:\n        base_charge += 200\n    elif age >= 46 and age <= 60:\n        base_charge += 300\n    else:\n        base_charge += 400\n\n    if bmi >= 18.5 and bmi <= 24.9:\n        base_charge += 50\n    elif bmi >= 25 and bmi <= 29.9:\n        base_charge += 100\n    else:\n        base_charge += 200\n\n    base_charge += children * 50\n\n    return base_charge\n\ndef main():\n    print(\"Welcome to the Insurance Charge Calculator!\")\n    sex = input(\"Enter your sex (Male or Female): \")\n    smoker = input(\"Enter your smoker status (Smoker or Non-Smoker): \")\n    age = int(input(\"Enter your age: \"))\n    bmi = float(input(\"Enter your BMI: \"))\n    children = int(input(\"Enter the number of children: \"))\n\n    insurance_charge = calculate_insurance_charge(sex, smoker, age, bmi, children)\n    print(\"Your insurance charge is: $\", insurance_charge)\n\nif __name__ == \"__main__\":\n    main()\n",
      "metadata": {
        "trusted": true
      },
      "outputs": [
        {
          "name": "stdout",
          "text": "Welcome to the Insurance Charge Calculator!\n",
          "output_type": "stream"
        },
        {
          "ename": "<class 'TypeError'>",
          "evalue": "int() argument must be a string, a bytes-like object or a real number, not 'PyodideFuture'",
          "traceback": [
            "\u001b[0;31m---------------------------------------------------------------------------\u001b[0m",
            "\u001b[0;31mTypeError\u001b[0m                                 Traceback (most recent call last)",
            "Cell \u001b[0;32mIn[45], line 49\u001b[0m\n\u001b[1;32m     46\u001b[0m     \u001b[38;5;28mprint\u001b[39m(\u001b[38;5;124m\"\u001b[39m\u001b[38;5;124mYour insurance charge is: $\u001b[39m\u001b[38;5;124m\"\u001b[39m, insurance_charge)\n\u001b[1;32m     48\u001b[0m \u001b[38;5;28;01mif\u001b[39;00m \u001b[38;5;18m__name__\u001b[39m \u001b[38;5;241m==\u001b[39m \u001b[38;5;124m\"\u001b[39m\u001b[38;5;124m__main__\u001b[39m\u001b[38;5;124m\"\u001b[39m:\n\u001b[0;32m---> 49\u001b[0m     \u001b[43mmain\u001b[49m\u001b[43m(\u001b[49m\u001b[43m)\u001b[49m\n",
            "Cell \u001b[0;32mIn[45], line 41\u001b[0m, in \u001b[0;36mmain\u001b[0;34m()\u001b[0m\n\u001b[1;32m     39\u001b[0m sex \u001b[38;5;241m=\u001b[39m \u001b[38;5;28minput\u001b[39m(\u001b[38;5;124m\"\u001b[39m\u001b[38;5;124mEnter your sex (Male or Female): \u001b[39m\u001b[38;5;124m\"\u001b[39m)\n\u001b[1;32m     40\u001b[0m smoker \u001b[38;5;241m=\u001b[39m \u001b[38;5;28minput\u001b[39m(\u001b[38;5;124m\"\u001b[39m\u001b[38;5;124mEnter your smoker status (Smoker or Non-Smoker): \u001b[39m\u001b[38;5;124m\"\u001b[39m)\n\u001b[0;32m---> 41\u001b[0m age \u001b[38;5;241m=\u001b[39m \u001b[38;5;28;43mint\u001b[39;49m\u001b[43m(\u001b[49m\u001b[43mgetpass\u001b[49m\u001b[38;5;241;43m.\u001b[39;49m\u001b[43mgetpass\u001b[49m\u001b[43m(\u001b[49m\u001b[38;5;124;43m\"\u001b[39;49m\u001b[38;5;124;43mEnter your age: \u001b[39;49m\u001b[38;5;124;43m\"\u001b[39;49m\u001b[43m)\u001b[49m\u001b[43m)\u001b[49m\n\u001b[1;32m     42\u001b[0m bmi \u001b[38;5;241m=\u001b[39m \u001b[38;5;28mfloat\u001b[39m(getpass\u001b[38;5;241m.\u001b[39mgetpass(\u001b[38;5;124m\"\u001b[39m\u001b[38;5;124mEnter your BMI: \u001b[39m\u001b[38;5;124m\"\u001b[39m))\n\u001b[1;32m     43\u001b[0m children \u001b[38;5;241m=\u001b[39m \u001b[38;5;28mint\u001b[39m(getpass\u001b[38;5;241m.\u001b[39mgetpass(\u001b[38;5;124m\"\u001b[39m\u001b[38;5;124mEnter the number of children: \u001b[39m\u001b[38;5;124m\"\u001b[39m))\n",
            "\u001b[0;31mTypeError\u001b[0m: int() argument must be a string, a bytes-like object or a real number, not 'PyodideFuture'"
          ],
          "output_type": "error"
        }
      ],
      "execution_count": 45
    },
    {
      "cell_type": "code",
      "source": "",
      "metadata": {
        "trusted": true
      },
      "outputs": [],
      "execution_count": null
    }
  ]
}